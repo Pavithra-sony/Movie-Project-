{
 "cells": [
  {
   "cell_type": "code",
   "execution_count": 2,
   "id": "5204c819-677e-45d6-9521-9d8e9564a8c3",
   "metadata": {},
   "outputs": [],
   "source": [
    "import numpy as np\n",
    "import pandas as pd"
   ]
  },
  {
   "cell_type": "code",
   "execution_count": 3,
   "id": "d7b507b8-5a43-4316-95ab-00d1eb161d3b",
   "metadata": {},
   "outputs": [],
   "source": [
    "movies = pd.read_csv(r\"C:/Users/Pavithra I/Downloads/dataset/rotten_tomatoes_movies.csv\")\n",
    "credits = pd.read_csv(r\"C:/Users/Pavithra I/Downloads/dataset/rotten_tomatoes_movie_reviews.csv\")"
   ]
  },
  {
   "cell_type": "code",
   "execution_count": 4,
   "id": "8841f34a-c1cf-44f3-afc1-dd8d7dd1384e",
   "metadata": {},
   "outputs": [
    {
     "data": {
      "text/html": [
       "<div>\n",
       "<style scoped>\n",
       "    .dataframe tbody tr th:only-of-type {\n",
       "        vertical-align: middle;\n",
       "    }\n",
       "\n",
       "    .dataframe tbody tr th {\n",
       "        vertical-align: top;\n",
       "    }\n",
       "\n",
       "    .dataframe thead th {\n",
       "        text-align: right;\n",
       "    }\n",
       "</style>\n",
       "<table border=\"1\" class=\"dataframe\">\n",
       "  <thead>\n",
       "    <tr style=\"text-align: right;\">\n",
       "      <th></th>\n",
       "      <th>id</th>\n",
       "      <th>title</th>\n",
       "      <th>audienceScore</th>\n",
       "      <th>tomatoMeter</th>\n",
       "      <th>rating</th>\n",
       "      <th>ratingContents</th>\n",
       "      <th>releaseDateTheaters</th>\n",
       "      <th>releaseDateStreaming</th>\n",
       "      <th>runtimeMinutes</th>\n",
       "      <th>genre</th>\n",
       "      <th>originalLanguage</th>\n",
       "      <th>director</th>\n",
       "      <th>writer</th>\n",
       "      <th>boxOffice</th>\n",
       "      <th>distributor</th>\n",
       "      <th>soundMix</th>\n",
       "    </tr>\n",
       "  </thead>\n",
       "  <tbody>\n",
       "    <tr>\n",
       "      <th>0</th>\n",
       "      <td>space-zombie-bingo</td>\n",
       "      <td>Space Zombie Bingo!</td>\n",
       "      <td>50.0</td>\n",
       "      <td>NaN</td>\n",
       "      <td>NaN</td>\n",
       "      <td>NaN</td>\n",
       "      <td>NaN</td>\n",
       "      <td>2018-08-25</td>\n",
       "      <td>75.0</td>\n",
       "      <td>Comedy, Horror, Sci-fi</td>\n",
       "      <td>English</td>\n",
       "      <td>George Ormrod</td>\n",
       "      <td>George Ormrod,John Sabotta</td>\n",
       "      <td>NaN</td>\n",
       "      <td>NaN</td>\n",
       "      <td>NaN</td>\n",
       "    </tr>\n",
       "  </tbody>\n",
       "</table>\n",
       "</div>"
      ],
      "text/plain": [
       "                   id                title  audienceScore  tomatoMeter rating  \\\n",
       "0  space-zombie-bingo  Space Zombie Bingo!           50.0          NaN    NaN   \n",
       "\n",
       "  ratingContents releaseDateTheaters releaseDateStreaming  runtimeMinutes  \\\n",
       "0            NaN                 NaN           2018-08-25            75.0   \n",
       "\n",
       "                    genre originalLanguage       director  \\\n",
       "0  Comedy, Horror, Sci-fi          English  George Ormrod   \n",
       "\n",
       "                       writer boxOffice distributor soundMix  \n",
       "0  George Ormrod,John Sabotta       NaN         NaN      NaN  "
      ]
     },
     "execution_count": 4,
     "metadata": {},
     "output_type": "execute_result"
    }
   ],
   "source": [
    "movies.head(1)"
   ]
  },
  {
   "cell_type": "code",
   "execution_count": 5,
   "id": "3f06eeef-2c87-44d6-a4a5-c4ce43f6562e",
   "metadata": {},
   "outputs": [
    {
     "data": {
      "text/html": [
       "<div>\n",
       "<style scoped>\n",
       "    .dataframe tbody tr th:only-of-type {\n",
       "        vertical-align: middle;\n",
       "    }\n",
       "\n",
       "    .dataframe tbody tr th {\n",
       "        vertical-align: top;\n",
       "    }\n",
       "\n",
       "    .dataframe thead th {\n",
       "        text-align: right;\n",
       "    }\n",
       "</style>\n",
       "<table border=\"1\" class=\"dataframe\">\n",
       "  <thead>\n",
       "    <tr style=\"text-align: right;\">\n",
       "      <th></th>\n",
       "      <th>id</th>\n",
       "      <th>reviewId</th>\n",
       "      <th>creationDate</th>\n",
       "      <th>criticName</th>\n",
       "      <th>isTopCritic</th>\n",
       "      <th>originalScore</th>\n",
       "      <th>reviewState</th>\n",
       "      <th>publicatioName</th>\n",
       "      <th>reviewText</th>\n",
       "      <th>scoreSentiment</th>\n",
       "      <th>reviewUrl</th>\n",
       "    </tr>\n",
       "  </thead>\n",
       "  <tbody>\n",
       "    <tr>\n",
       "      <th>0</th>\n",
       "      <td>beavers</td>\n",
       "      <td>1145982</td>\n",
       "      <td>2003-05-23</td>\n",
       "      <td>Ivan M. Lincoln</td>\n",
       "      <td>False</td>\n",
       "      <td>3.5/4</td>\n",
       "      <td>fresh</td>\n",
       "      <td>Deseret News (Salt Lake City)</td>\n",
       "      <td>Timed to be just long enough for most youngste...</td>\n",
       "      <td>POSITIVE</td>\n",
       "      <td>http://www.deseretnews.com/article/700003233/B...</td>\n",
       "    </tr>\n",
       "  </tbody>\n",
       "</table>\n",
       "</div>"
      ],
      "text/plain": [
       "        id  reviewId creationDate       criticName  isTopCritic originalScore  \\\n",
       "0  beavers   1145982   2003-05-23  Ivan M. Lincoln        False         3.5/4   \n",
       "\n",
       "  reviewState                 publicatioName  \\\n",
       "0       fresh  Deseret News (Salt Lake City)   \n",
       "\n",
       "                                          reviewText scoreSentiment  \\\n",
       "0  Timed to be just long enough for most youngste...       POSITIVE   \n",
       "\n",
       "                                           reviewUrl  \n",
       "0  http://www.deseretnews.com/article/700003233/B...  "
      ]
     },
     "execution_count": 5,
     "metadata": {},
     "output_type": "execute_result"
    }
   ],
   "source": [
    "credits.head(1)"
   ]
  },
  {
   "cell_type": "code",
   "execution_count": 6,
   "id": "050e69e6-3a42-4af9-bed8-372163e5b8d2",
   "metadata": {},
   "outputs": [
    {
     "name": "stdout",
     "output_type": "stream",
     "text": [
      "Index(['id', 'title', 'audienceScore', 'tomatoMeter', 'rating',\n",
      "       'ratingContents', 'releaseDateTheaters', 'releaseDateStreaming',\n",
      "       'runtimeMinutes', 'genre', 'originalLanguage', 'director', 'writer',\n",
      "       'boxOffice', 'distributor', 'soundMix', 'reviewId', 'creationDate',\n",
      "       'criticName', 'isTopCritic', 'originalScore', 'reviewState',\n",
      "       'publicatioName', 'reviewText', 'scoreSentiment', 'reviewUrl'],\n",
      "      dtype='object')\n"
     ]
    }
   ],
   "source": [
    "merged_df = movies.merge(credits, on='id', how='inner')\n",
    "\n",
    "# Print the columns of the merged DataFrame\n",
    "print(merged_df.columns)\n"
   ]
  },
  {
   "cell_type": "code",
   "execution_count": 7,
   "id": "2aee1876-a1da-4d20-b405-ad8072995003",
   "metadata": {},
   "outputs": [
    {
     "data": {
      "text/html": [
       "<div>\n",
       "<style scoped>\n",
       "    .dataframe tbody tr th:only-of-type {\n",
       "        vertical-align: middle;\n",
       "    }\n",
       "\n",
       "    .dataframe tbody tr th {\n",
       "        vertical-align: top;\n",
       "    }\n",
       "\n",
       "    .dataframe thead th {\n",
       "        text-align: right;\n",
       "    }\n",
       "</style>\n",
       "<table border=\"1\" class=\"dataframe\">\n",
       "  <thead>\n",
       "    <tr style=\"text-align: right;\">\n",
       "      <th></th>\n",
       "      <th>id</th>\n",
       "      <th>title</th>\n",
       "      <th>audienceScore</th>\n",
       "      <th>tomatoMeter</th>\n",
       "      <th>rating</th>\n",
       "      <th>ratingContents</th>\n",
       "      <th>releaseDateTheaters</th>\n",
       "      <th>releaseDateStreaming</th>\n",
       "      <th>runtimeMinutes</th>\n",
       "      <th>genre</th>\n",
       "      <th>originalLanguage</th>\n",
       "      <th>director</th>\n",
       "      <th>writer</th>\n",
       "      <th>boxOffice</th>\n",
       "      <th>distributor</th>\n",
       "      <th>soundMix</th>\n",
       "    </tr>\n",
       "  </thead>\n",
       "  <tbody>\n",
       "    <tr>\n",
       "      <th>0</th>\n",
       "      <td>space-zombie-bingo</td>\n",
       "      <td>Space Zombie Bingo!</td>\n",
       "      <td>50.0</td>\n",
       "      <td>NaN</td>\n",
       "      <td>NaN</td>\n",
       "      <td>NaN</td>\n",
       "      <td>NaN</td>\n",
       "      <td>2018-08-25</td>\n",
       "      <td>75.0</td>\n",
       "      <td>Comedy, Horror, Sci-fi</td>\n",
       "      <td>English</td>\n",
       "      <td>George Ormrod</td>\n",
       "      <td>George Ormrod,John Sabotta</td>\n",
       "      <td>NaN</td>\n",
       "      <td>NaN</td>\n",
       "      <td>NaN</td>\n",
       "    </tr>\n",
       "  </tbody>\n",
       "</table>\n",
       "</div>"
      ],
      "text/plain": [
       "                   id                title  audienceScore  tomatoMeter rating  \\\n",
       "0  space-zombie-bingo  Space Zombie Bingo!           50.0          NaN    NaN   \n",
       "\n",
       "  ratingContents releaseDateTheaters releaseDateStreaming  runtimeMinutes  \\\n",
       "0            NaN                 NaN           2018-08-25            75.0   \n",
       "\n",
       "                    genre originalLanguage       director  \\\n",
       "0  Comedy, Horror, Sci-fi          English  George Ormrod   \n",
       "\n",
       "                       writer boxOffice distributor soundMix  \n",
       "0  George Ormrod,John Sabotta       NaN         NaN      NaN  "
      ]
     },
     "execution_count": 7,
     "metadata": {},
     "output_type": "execute_result"
    }
   ],
   "source": [
    "movies.head(1)"
   ]
  },
  {
   "cell_type": "code",
   "execution_count": 8,
   "id": "22ac13de-bc28-435b-a875-851454e641e6",
   "metadata": {},
   "outputs": [
    {
     "name": "stdout",
     "output_type": "stream",
     "text": [
      "Index(['id', 'title', 'audienceScore', 'tomatoMeter', 'rating',\n",
      "       'ratingContents', 'releaseDateTheaters', 'releaseDateStreaming',\n",
      "       'runtimeMinutes', 'genre', 'originalLanguage', 'director', 'writer',\n",
      "       'boxOffice', 'distributor', 'soundMix'],\n",
      "      dtype='object')\n",
      "Index(['id', 'reviewId', 'creationDate', 'criticName', 'isTopCritic',\n",
      "       'originalScore', 'reviewState', 'publicatioName', 'reviewText',\n",
      "       'scoreSentiment', 'reviewUrl'],\n",
      "      dtype='object')\n"
     ]
    }
   ],
   "source": [
    "print(movies.columns)\n",
    "print(credits.columns)\n"
   ]
  },
  {
   "cell_type": "code",
   "execution_count": 9,
   "id": "6897f0bc-aaf5-4415-ae93-509e50a9e52b",
   "metadata": {},
   "outputs": [
    {
     "name": "stdout",
     "output_type": "stream",
     "text": [
      "<class 'pandas.core.frame.DataFrame'>\n",
      "RangeIndex: 143258 entries, 0 to 143257\n",
      "Data columns (total 16 columns):\n",
      " #   Column                Non-Null Count   Dtype  \n",
      "---  ------                --------------   -----  \n",
      " 0   id                    143258 non-null  object \n",
      " 1   title                 142891 non-null  object \n",
      " 2   audienceScore         73248 non-null   float64\n",
      " 3   tomatoMeter           33877 non-null   float64\n",
      " 4   rating                13991 non-null   object \n",
      " 5   ratingContents        13991 non-null   object \n",
      " 6   releaseDateTheaters   30773 non-null   object \n",
      " 7   releaseDateStreaming  79420 non-null   object \n",
      " 8   runtimeMinutes        129431 non-null  float64\n",
      " 9   genre                 132175 non-null  object \n",
      " 10  originalLanguage      129400 non-null  object \n",
      " 11  director              139041 non-null  object \n",
      " 12  writer                90116 non-null   object \n",
      " 13  boxOffice             14743 non-null   object \n",
      " 14  distributor           23001 non-null   object \n",
      " 15  soundMix              15917 non-null   object \n",
      "dtypes: float64(3), object(13)\n",
      "memory usage: 17.5+ MB\n"
     ]
    }
   ],
   "source": [
    "movies.info()"
   ]
  },
  {
   "cell_type": "code",
   "execution_count": 10,
   "id": "3bd9a607-35fd-4720-a740-8378c0b9b780",
   "metadata": {},
   "outputs": [],
   "source": [
    "#title\n",
    "#genre\n",
    "#originallanguage \n",
    "#runtime\n",
    "#director\n",
    "#audience score \n",
    "#releasedate\n",
    "\n",
    "movies = movies[['title', 'audienceScore', 'tomatoMeter', 'director', 'runtimeMinutes', 'genre', 'writer', 'originalLanguage', 'releaseDateStreaming']]\n"
   ]
  },
  {
   "cell_type": "code",
   "execution_count": 11,
   "id": "5af738ab-7c21-462d-86dd-5393d6c5799d",
   "metadata": {},
   "outputs": [
    {
     "data": {
      "text/html": [
       "<div>\n",
       "<style scoped>\n",
       "    .dataframe tbody tr th:only-of-type {\n",
       "        vertical-align: middle;\n",
       "    }\n",
       "\n",
       "    .dataframe tbody tr th {\n",
       "        vertical-align: top;\n",
       "    }\n",
       "\n",
       "    .dataframe thead th {\n",
       "        text-align: right;\n",
       "    }\n",
       "</style>\n",
       "<table border=\"1\" class=\"dataframe\">\n",
       "  <thead>\n",
       "    <tr style=\"text-align: right;\">\n",
       "      <th></th>\n",
       "      <th>title</th>\n",
       "      <th>audienceScore</th>\n",
       "      <th>tomatoMeter</th>\n",
       "      <th>director</th>\n",
       "      <th>runtimeMinutes</th>\n",
       "      <th>genre</th>\n",
       "      <th>writer</th>\n",
       "      <th>originalLanguage</th>\n",
       "      <th>releaseDateStreaming</th>\n",
       "    </tr>\n",
       "  </thead>\n",
       "  <tbody>\n",
       "    <tr>\n",
       "      <th>0</th>\n",
       "      <td>Space Zombie Bingo!</td>\n",
       "      <td>50.0</td>\n",
       "      <td>NaN</td>\n",
       "      <td>George Ormrod</td>\n",
       "      <td>75.0</td>\n",
       "      <td>Comedy, Horror, Sci-fi</td>\n",
       "      <td>George Ormrod,John Sabotta</td>\n",
       "      <td>English</td>\n",
       "      <td>2018-08-25</td>\n",
       "    </tr>\n",
       "  </tbody>\n",
       "</table>\n",
       "</div>"
      ],
      "text/plain": [
       "                 title  audienceScore  tomatoMeter       director  \\\n",
       "0  Space Zombie Bingo!           50.0          NaN  George Ormrod   \n",
       "\n",
       "   runtimeMinutes                   genre                      writer  \\\n",
       "0            75.0  Comedy, Horror, Sci-fi  George Ormrod,John Sabotta   \n",
       "\n",
       "  originalLanguage releaseDateStreaming  \n",
       "0          English           2018-08-25  "
      ]
     },
     "execution_count": 11,
     "metadata": {},
     "output_type": "execute_result"
    }
   ],
   "source": [
    "movies.head(1)"
   ]
  },
  {
   "cell_type": "code",
   "execution_count": 12,
   "id": "86f33a8f-550c-40fa-a7ad-499f52d2f62a",
   "metadata": {},
   "outputs": [
    {
     "name": "stdout",
     "output_type": "stream",
     "text": [
      "Index(['title', 'audienceScore', 'tomatoMeter', 'director', 'runtimeMinutes',\n",
      "       'genre', 'writer', 'originalLanguage', 'releaseDateStreaming'],\n",
      "      dtype='object')\n"
     ]
    }
   ],
   "source": [
    "print(movies.columns)\n"
   ]
  },
  {
   "cell_type": "code",
   "execution_count": 13,
   "id": "31c8c480-e8c0-47aa-a8a8-8c7dfb235e12",
   "metadata": {},
   "outputs": [
    {
     "data": {
      "text/plain": [
       "title                      367\n",
       "audienceScore            70010\n",
       "tomatoMeter             109381\n",
       "director                  4217\n",
       "runtimeMinutes           13827\n",
       "genre                    11083\n",
       "writer                   53142\n",
       "originalLanguage         13858\n",
       "releaseDateStreaming     63838\n",
       "dtype: int64"
      ]
     },
     "execution_count": 13,
     "metadata": {},
     "output_type": "execute_result"
    }
   ],
   "source": [
    "movies.isnull().sum()"
   ]
  },
  {
   "cell_type": "code",
   "execution_count": 14,
   "id": "f568d14d-6ee9-447c-b68e-5dee9f731e26",
   "metadata": {},
   "outputs": [],
   "source": [
    "movies = movies[['title', 'audienceScore', 'tomatoMeter', 'director', 'runtimeMinutes', 'genre', 'writer', 'originalLanguage', 'releaseDateStreaming']].copy()\n",
    "\n",
    "movies = movies.dropna()\n"
   ]
  },
  {
   "cell_type": "code",
   "execution_count": 15,
   "id": "fd6c3009-acd3-457c-8050-b57487991c1e",
   "metadata": {},
   "outputs": [
    {
     "name": "stdout",
     "output_type": "stream",
     "text": [
      "                                              title  audienceScore  \\\n",
      "5                                            Adrift           65.0   \n",
      "9                                      Born to Kill           74.0   \n",
      "13  Leap of Faith: William Friedkin on The Exorcist           86.0   \n",
      "22                             Escape From Alcatraz           85.0   \n",
      "49                                            Salty           38.0   \n",
      "\n",
      "    tomatoMeter               director  runtimeMinutes  \\\n",
      "5          69.0      Baltasar Kormákur           120.0   \n",
      "9          83.0            Robert Wise            92.0   \n",
      "13         93.0  Alexandre O. Philippe           104.0   \n",
      "22         97.0             Don Siegel           107.0   \n",
      "49          0.0             Simon West            86.0   \n",
      "\n",
      "                                genre  \\\n",
      "5           Adventure, Drama, Romance   \n",
      "9                        Crime, Drama   \n",
      "13    Documentary, Mystery & thriller   \n",
      "22  Mystery & thriller, Drama, Action   \n",
      "49                     Comedy, Action   \n",
      "\n",
      "                                              writer  \\\n",
      "5   Aaron Kandell,Jordan Kandell,David Branson Smith   \n",
      "9                        Eve Greene,Richard Macaulay   \n",
      "13                             Alexandre O. Philippe   \n",
      "22                                    Richard Tuggle   \n",
      "49                    Toby Davies,Mark Haskell Smith   \n",
      "\n",
      "            originalLanguage releaseDateStreaming  \n",
      "5                    English           2018-08-21  \n",
      "9                    English           2016-05-23  \n",
      "13                   English           2020-11-19  \n",
      "22                   English           1999-03-09  \n",
      "49  English (United Kingdom)           2017-11-07  \n"
     ]
    }
   ],
   "source": [
    "print(movies.head())\n",
    "\n"
   ]
  },
  {
   "cell_type": "code",
   "execution_count": 16,
   "id": "40bf69a6-7393-4f0d-96b3-a73d88a2f5b3",
   "metadata": {},
   "outputs": [
    {
     "name": "stdout",
     "output_type": "stream",
     "text": [
      "Shape: (22203, 9)\n"
     ]
    }
   ],
   "source": [
    "print(\"Shape:\", movies.shape)\n"
   ]
  },
  {
   "cell_type": "code",
   "execution_count": 17,
   "id": "9dbbaacb-c464-4a50-8493-0c79c437b396",
   "metadata": {},
   "outputs": [
    {
     "name": "stdout",
     "output_type": "stream",
     "text": [
      "title                   0\n",
      "audienceScore           0\n",
      "tomatoMeter             0\n",
      "director                0\n",
      "runtimeMinutes          0\n",
      "genre                   0\n",
      "writer                  0\n",
      "originalLanguage        0\n",
      "releaseDateStreaming    0\n",
      "dtype: int64\n"
     ]
    }
   ],
   "source": [
    "print(movies.isnull().sum())\n"
   ]
  },
  {
   "cell_type": "code",
   "execution_count": 18,
   "id": "da9780f1-aaf6-47f4-ba05-3d4f1b245fba",
   "metadata": {},
   "outputs": [],
   "source": [
    "movies.to_csv(\"cleaned_movies.csv\", index=False)\n"
   ]
  },
  {
   "cell_type": "code",
   "execution_count": 19,
   "id": "9fe34ea9-b7b0-4928-82d1-470c6773ba85",
   "metadata": {},
   "outputs": [
    {
     "data": {
      "text/plain": [
       "207"
      ]
     },
     "execution_count": 19,
     "metadata": {},
     "output_type": "execute_result"
    }
   ],
   "source": [
    "movies.duplicated().sum()"
   ]
  },
  {
   "cell_type": "code",
   "execution_count": 20,
   "id": "3b73cda5-24a8-46af-9f49-70a48e8e8019",
   "metadata": {},
   "outputs": [],
   "source": [
    "movies.drop_duplicates(inplace=True)\n"
   ]
  },
  {
   "cell_type": "code",
   "execution_count": 21,
   "id": "7bdac97d-29ca-406a-a1db-7c8f09764c26",
   "metadata": {},
   "outputs": [
    {
     "name": "stdout",
     "output_type": "stream",
     "text": [
      "Remaining rows after dropping duplicates: 21996\n"
     ]
    }
   ],
   "source": [
    "print(\"Remaining rows after dropping duplicates:\", movies.shape[0])\n"
   ]
  },
  {
   "cell_type": "code",
   "execution_count": 22,
   "id": "eb4e40ad-12f5-4417-a0a3-72c41f06c80f",
   "metadata": {},
   "outputs": [
    {
     "data": {
      "text/plain": [
       "'Adventure, Drama, Romance'"
      ]
     },
     "execution_count": 22,
     "metadata": {},
     "output_type": "execute_result"
    }
   ],
   "source": [
    "movies.iloc[0].genre"
   ]
  },
  {
   "cell_type": "code",
   "execution_count": 23,
   "id": "4f4b4b8f-08de-44e0-b027-ad886bcf18fe",
   "metadata": {},
   "outputs": [],
   "source": [
    "movies['genre'] = movies['genre'].apply(lambda x: [g.strip() for g in x.split(',')])\n"
   ]
  },
  {
   "cell_type": "code",
   "execution_count": 24,
   "id": "8a369475-b516-4b96-a8d2-816ecb56074e",
   "metadata": {},
   "outputs": [
    {
     "name": "stdout",
     "output_type": "stream",
     "text": [
      "['Adventure', 'Drama', 'Romance']\n"
     ]
    }
   ],
   "source": [
    "print(movies.iloc[0]['genre'])\n"
   ]
  },
  {
   "cell_type": "code",
   "execution_count": 25,
   "id": "5dd3883b-1d98-4788-ad18-5129174f2737",
   "metadata": {},
   "outputs": [],
   "source": [
    "movies['tags'] = movies['genre'].apply(lambda x: ' '.join(x)) + \" \" + \\\n",
    "                 movies['director'] + \" \" + \\\n",
    "                 movies['writer'] + \" \" + \\\n",
    "                 movies['originalLanguage']\n"
   ]
  },
  {
   "cell_type": "code",
   "execution_count": 26,
   "id": "205fbe14-e174-46d4-86d0-26b251ef1b02",
   "metadata": {},
   "outputs": [
    {
     "name": "stdout",
     "output_type": "stream",
     "text": [
      "                                              title  \\\n",
      "5                                            Adrift   \n",
      "9                                      Born to Kill   \n",
      "13  Leap of Faith: William Friedkin on The Exorcist   \n",
      "22                             Escape From Alcatraz   \n",
      "49                                            Salty   \n",
      "\n",
      "                                                 tags  \n",
      "5   Adventure Drama Romance Baltasar Kormákur Aaro...  \n",
      "9   Crime Drama Robert Wise Eve Greene,Richard Mac...  \n",
      "13  Documentary Mystery & thriller Alexandre O. Ph...  \n",
      "22  Mystery & thriller Drama Action Don Siegel Ric...  \n",
      "49  Comedy Action Simon West Toby Davies,Mark Hask...  \n"
     ]
    }
   ],
   "source": [
    "print(movies[['title', 'tags']].head())"
   ]
  },
  {
   "cell_type": "code",
   "execution_count": 27,
   "id": "24724d92-3fb9-4119-89f8-97f21ae537f7",
   "metadata": {},
   "outputs": [
    {
     "name": "stdout",
     "output_type": "stream",
     "text": [
      "0\n"
     ]
    }
   ],
   "source": [
    "print(movies['tags'].isna().sum())\n"
   ]
  },
  {
   "cell_type": "code",
   "execution_count": 28,
   "id": "ee20d4f5-52b2-4671-adbc-23f51c13f0fd",
   "metadata": {},
   "outputs": [
    {
     "name": "stdout",
     "output_type": "stream",
     "text": [
      "Adventure Drama Romance Baltasar Kormákur Aaron Kandell,Jordan Kandell,David Branson Smith English\n"
     ]
    }
   ],
   "source": [
    "print(movies['tags'].iloc[0])\n"
   ]
  },
  {
   "cell_type": "code",
   "execution_count": 29,
   "id": "186ad1ce-5e36-4af8-b57c-dccb13deeeda",
   "metadata": {},
   "outputs": [
    {
     "data": {
      "text/plain": [
       "5         adventure drama romance baltasar kormákur aaro...\n",
       "9         crime drama robert wise eve greene,richard mac...\n",
       "13        documentary mystery & thriller alexandre o. ph...\n",
       "22        mystery & thriller drama action don siegel ric...\n",
       "49        comedy action simon west toby davies,mark hask...\n",
       "                                ...                        \n",
       "143203             action eric karson leigh chapman english\n",
       "143205    adventure comedy drama lena dunham lena dunham...\n",
       "143213    mystery & thriller mike burns bill lawrence en...\n",
       "143236    documentary ron mann charles lippincott,ron ma...\n",
       "143250      holiday comedy josh schwartz max werner english\n",
       "Name: tags, Length: 21996, dtype: object"
      ]
     },
     "execution_count": 29,
     "metadata": {},
     "output_type": "execute_result"
    }
   ],
   "source": [
    "movies['tags'].apply(lambda x: x.lower())\n"
   ]
  },
  {
   "cell_type": "code",
   "execution_count": 30,
   "id": "26d99bdb-4c89-4364-9b6c-8bf8e234ec1f",
   "metadata": {},
   "outputs": [
    {
     "data": {
      "text/html": [
       "<div>\n",
       "<style scoped>\n",
       "    .dataframe tbody tr th:only-of-type {\n",
       "        vertical-align: middle;\n",
       "    }\n",
       "\n",
       "    .dataframe tbody tr th {\n",
       "        vertical-align: top;\n",
       "    }\n",
       "\n",
       "    .dataframe thead th {\n",
       "        text-align: right;\n",
       "    }\n",
       "</style>\n",
       "<table border=\"1\" class=\"dataframe\">\n",
       "  <thead>\n",
       "    <tr style=\"text-align: right;\">\n",
       "      <th></th>\n",
       "      <th>title</th>\n",
       "      <th>audienceScore</th>\n",
       "      <th>tomatoMeter</th>\n",
       "      <th>director</th>\n",
       "      <th>runtimeMinutes</th>\n",
       "      <th>genre</th>\n",
       "      <th>writer</th>\n",
       "      <th>originalLanguage</th>\n",
       "      <th>releaseDateStreaming</th>\n",
       "      <th>tags</th>\n",
       "    </tr>\n",
       "  </thead>\n",
       "  <tbody>\n",
       "    <tr>\n",
       "      <th>5</th>\n",
       "      <td>Adrift</td>\n",
       "      <td>65.0</td>\n",
       "      <td>69.0</td>\n",
       "      <td>Baltasar Kormákur</td>\n",
       "      <td>120.0</td>\n",
       "      <td>[Adventure, Drama, Romance]</td>\n",
       "      <td>Aaron Kandell,Jordan Kandell,David Branson Smith</td>\n",
       "      <td>English</td>\n",
       "      <td>2018-08-21</td>\n",
       "      <td>Adventure Drama Romance Baltasar Kormákur Aaro...</td>\n",
       "    </tr>\n",
       "  </tbody>\n",
       "</table>\n",
       "</div>"
      ],
      "text/plain": [
       "    title  audienceScore  tomatoMeter           director  runtimeMinutes  \\\n",
       "5  Adrift           65.0         69.0  Baltasar Kormákur           120.0   \n",
       "\n",
       "                         genre  \\\n",
       "5  [Adventure, Drama, Romance]   \n",
       "\n",
       "                                             writer originalLanguage  \\\n",
       "5  Aaron Kandell,Jordan Kandell,David Branson Smith          English   \n",
       "\n",
       "  releaseDateStreaming                                               tags  \n",
       "5           2018-08-21  Adventure Drama Romance Baltasar Kormákur Aaro...  "
      ]
     },
     "execution_count": 30,
     "metadata": {},
     "output_type": "execute_result"
    }
   ],
   "source": [
    "movies.head(1)"
   ]
  },
  {
   "cell_type": "code",
   "execution_count": 31,
   "id": "d30390d0-6ba9-4630-889d-c2c13faa989e",
   "metadata": {},
   "outputs": [],
   "source": [
    "movies = movies.reset_index(drop=True)\n"
   ]
  },
  {
   "cell_type": "code",
   "execution_count": 32,
   "id": "ca6705c6-c012-42ba-8b20-84b568aac2f6",
   "metadata": {},
   "outputs": [],
   "source": [
    "from sklearn.feature_extraction.text import CountVectorizer\n",
    "\n",
    "cv = CountVectorizer(max_features=5000, stop_words='english')\n"
   ]
  },
  {
   "cell_type": "code",
   "execution_count": 33,
   "id": "e367d722-4f01-4885-82d9-08492fc872cf",
   "metadata": {},
   "outputs": [],
   "source": [
    "vector = cv.fit_transform(movies['tags']).toarray()\n"
   ]
  },
  {
   "cell_type": "code",
   "execution_count": 34,
   "id": "4a0bd826-f375-4f3b-bb8d-0c6cfc472cd5",
   "metadata": {},
   "outputs": [
    {
     "data": {
      "text/plain": [
       "(21996, 5000)"
      ]
     },
     "execution_count": 34,
     "metadata": {},
     "output_type": "execute_result"
    }
   ],
   "source": [
    "vector.shape"
   ]
  },
  {
   "cell_type": "code",
   "execution_count": 35,
   "id": "ca877e45-aec2-4142-957e-b17ca9a04aef",
   "metadata": {},
   "outputs": [],
   "source": [
    "from sklearn.metrics.pairwise import cosine_similarity\n"
   ]
  },
  {
   "cell_type": "code",
   "execution_count": 36,
   "id": "a7e1f950-44d9-48ae-bd6d-26613d8adb4a",
   "metadata": {},
   "outputs": [],
   "source": [
    "similarity = cosine_similarity(vector)"
   ]
  },
  {
   "cell_type": "code",
   "execution_count": 37,
   "id": "098f39bb-b888-42a1-8383-f384b005cea8",
   "metadata": {},
   "outputs": [
    {
     "data": {
      "text/plain": [
       "array([[1.        , 0.21081851, 0.09128709, ..., 0.12909944, 0.09534626,\n",
       "        0.11952286],\n",
       "       [0.21081851, 1.        , 0.09622504, ..., 0.13608276, 0.10050378,\n",
       "        0.12598816],\n",
       "       [0.09128709, 0.09622504, 1.        , ..., 0.35355339, 0.17407766,\n",
       "        0.10910895],\n",
       "       ...,\n",
       "       [0.12909944, 0.13608276, 0.35355339, ..., 1.        , 0.12309149,\n",
       "        0.15430335],\n",
       "       [0.09534626, 0.10050378, 0.17407766, ..., 0.12309149, 1.        ,\n",
       "        0.11396058],\n",
       "       [0.11952286, 0.12598816, 0.10910895, ..., 0.15430335, 0.11396058,\n",
       "        1.        ]])"
      ]
     },
     "execution_count": 37,
     "metadata": {},
     "output_type": "execute_result"
    }
   ],
   "source": [
    "similarity"
   ]
  },
  {
   "cell_type": "code",
   "execution_count": 38,
   "id": "9a191534-7b54-4723-8296-5cbb37cf4783",
   "metadata": {},
   "outputs": [
    {
     "name": "stdout",
     "output_type": "stream",
     "text": [
      "6\n",
      "                                   title  audienceScore  tomatoMeter  \\\n",
      "1545   The LEGO Movie 2: The Second Part           68.0         84.0   \n",
      "10247              The LEGO Batman Movie           80.0         90.0   \n",
      "12325    LEGO Star Wars Terrifying Tales           65.0        100.0   \n",
      "14231             The LEGO NINJAGO Movie           46.0         55.0   \n",
      "14783                     The LEGO Movie           87.0         96.0   \n",
      "19571               A LEGO Brickumentary           64.0         55.0   \n",
      "\n",
      "                                 director  runtimeMinutes  \\\n",
      "1545                        Mike Mitchell           107.0   \n",
      "10247                         Chris McKay           106.0   \n",
      "12325                      Ken Cunningham            44.0   \n",
      "14231  Charlie Bean,Paul Fisher,Bob Logan           101.0   \n",
      "14783              Phil Lord,Chris Miller            95.0   \n",
      "19571          Daniel Junge,Kief Davidson            92.0   \n",
      "\n",
      "                                                   genre  \\\n",
      "1545   [Kids & family, Comedy, Adventure, Action, Ani...   \n",
      "10247  [Kids & family, Comedy, Adventure, Action, Ani...   \n",
      "12325  [Action, Adventure, Animation, Kids & family, ...   \n",
      "14231  [Kids & family, Comedy, Adventure, Action, Ani...   \n",
      "14783      [Kids & family, Comedy, Adventure, Animation]   \n",
      "19571                                      [Documentary]   \n",
      "\n",
      "                                                  writer originalLanguage  \\\n",
      "1545                              Phil Lord,Chris Miller          English   \n",
      "10247  Seth Grahame-Smith,Chris McKenna,Erik Sommers,...          English   \n",
      "12325                                       David Shayne          English   \n",
      "14231  Bob Logan,Paul Fisher,William Wheeler,Tom Whee...          English   \n",
      "14783                             Phil Lord,Chris Miller          English   \n",
      "19571            Daniel Junge,Davis Coombe,Kief Davidson          English   \n",
      "\n",
      "      releaseDateStreaming                                               tags  \n",
      "1545            2019-05-07  Kids & family Comedy Adventure Action Animatio...  \n",
      "10247           2017-06-13  Kids & family Comedy Adventure Action Animatio...  \n",
      "12325           2021-10-01  Action Adventure Animation Kids & family Sci-f...  \n",
      "14231           2017-12-19  Kids & family Comedy Adventure Action Animatio...  \n",
      "14783           2014-06-17  Kids & family Comedy Adventure Animation Phil ...  \n",
      "19571           2015-11-03  Documentary Daniel Junge,Kief Davidson Daniel ...  \n"
     ]
    }
   ],
   "source": [
    "print(movies['title'].str.contains('Lego', case=False).sum())\n",
    "print(movies[movies['title'].str.contains('Lego', case=False)])"
   ]
  },
  {
   "cell_type": "code",
   "execution_count": 39,
   "id": "ff1df108-f575-4a00-b978-76118f36d0cd",
   "metadata": {},
   "outputs": [],
   "source": [
    "def recommend(movie):\n",
    "    index = movies[movies['title'] == movie].index[0]\n",
    "    distances = sorted(list(enumerate(similarity[index])), reverse=True, key=lambda x: x[1])\n",
    "    for i in distances[1:6]:\n",
    "        print(movies.iloc[i[0]].title)\n"
   ]
  },
  {
   "cell_type": "code",
   "execution_count": 40,
   "id": "09df1746-0de5-450a-8052-18457d8559ef",
   "metadata": {},
   "outputs": [
    {
     "name": "stdout",
     "output_type": "stream",
     "text": [
      "Final Destination 3\n",
      "The One\n",
      "Dead Awake\n",
      "Day of the Dead\n",
      "Strange Nature\n"
     ]
    }
   ],
   "source": [
    "recommend('Final Destination')"
   ]
  },
  {
   "cell_type": "code",
   "execution_count": 41,
   "id": "468a3431-fabb-42a1-a29d-1b1256177b61",
   "metadata": {},
   "outputs": [],
   "source": [
    "import pickle"
   ]
  },
  {
   "cell_type": "code",
   "execution_count": 42,
   "id": "d412b0fc-d327-44a2-a86e-4ed41cf4a4fe",
   "metadata": {},
   "outputs": [],
   "source": [
    "\n",
    "pickle.dump(movies, open('movie_list.pkl', 'wb'))\n",
    "pickle.dump(similarity, open('similarity.pkl', 'wb'))\n"
   ]
  },
  {
   "cell_type": "code",
   "execution_count": null,
   "id": "5402d67f-4926-4e0d-8434-77e85e02213d",
   "metadata": {},
   "outputs": [],
   "source": []
  },
  {
   "cell_type": "code",
   "execution_count": null,
   "id": "8b006624-1684-4795-91d4-6b341e3c5362",
   "metadata": {},
   "outputs": [],
   "source": []
  },
  {
   "cell_type": "code",
   "execution_count": null,
   "id": "07c2022a-20d5-4e1c-b88a-6a8c65278da4",
   "metadata": {},
   "outputs": [],
   "source": []
  },
  {
   "cell_type": "code",
   "execution_count": null,
   "id": "bf6f9efa-c6fa-4bf2-b4b8-8db15f0ceca7",
   "metadata": {},
   "outputs": [],
   "source": []
  },
  {
   "cell_type": "code",
   "execution_count": null,
   "id": "a77fa2bd-577f-494e-9b80-ed9a0f6daa15",
   "metadata": {},
   "outputs": [],
   "source": []
  },
  {
   "cell_type": "code",
   "execution_count": null,
   "id": "edfc3c6b-9a33-4f10-aa7d-26d83c8327eb",
   "metadata": {},
   "outputs": [],
   "source": []
  },
  {
   "cell_type": "code",
   "execution_count": null,
   "id": "a586d7c4-f967-435b-add5-dc6b2489e83d",
   "metadata": {},
   "outputs": [],
   "source": []
  }
 ],
 "metadata": {
  "kernelspec": {
   "display_name": "Python 3 (ipykernel)",
   "language": "python",
   "name": "python3"
  },
  "language_info": {
   "codemirror_mode": {
    "name": "ipython",
    "version": 3
   },
   "file_extension": ".py",
   "mimetype": "text/x-python",
   "name": "python",
   "nbconvert_exporter": "python",
   "pygments_lexer": "ipython3",
   "version": "3.12.7"
  }
 },
 "nbformat": 4,
 "nbformat_minor": 5
}
